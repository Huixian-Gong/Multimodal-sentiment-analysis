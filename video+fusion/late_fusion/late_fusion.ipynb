{
 "cells": [
  {
   "cell_type": "code",
   "execution_count": 2,
   "id": "61a335c1",
   "metadata": {},
   "outputs": [
    {
     "name": "stdout",
     "output_type": "stream",
     "text": [
      "📊 Evaluation Metrics:\n",
      "Macro-F1:  0.5408\n",
      "Micro-F1:  0.6053\n",
      "Accuracy:  0.6053\n",
      "Recall per class:\n",
      "  Negative (0): 0.3750\n",
      "  Neutral  (1): 0.6207\n",
      "  Positive (2): 0.6522\n"
     ]
    }
   ],
   "source": [
    "import pandas as pd\n",
    "from collections import Counter\n",
    "from sklearn.metrics import f1_score, accuracy_score, recall_score\n",
    "\n",
    "# Load CSVs\n",
    "video_majority_df = pd.read_csv(\"/data/home/huixian/Documents/Homeworks/535_project/late_fusion/video_level_majority_predictions.csv\")\n",
    "mlp_segment_df = pd.read_csv(\"/data/home/huixian/Documents/Homeworks/535_project/late_fusion/mlp_segment_predictions.csv\")\n",
    "audio_majority_df = pd.read_csv(\"/data/home/huixian/Documents/Homeworks/535_project/late_fusion/audio_majority_pred.csv\")\n",
    "\n",
    "# Label mappings\n",
    "label_to_id = {\"Negative\": 0, \"Neutral\": 1, \"Positive\": 2}\n",
    "id_to_label = {v: k for k, v in label_to_id.items()}\n",
    "\n",
    "results = []\n",
    "\n",
    "# Perform majority voting\n",
    "for _, row in audio_majority_df.iterrows():\n",
    "    video_id = row[\"video_id\"]\n",
    "    gt_label = row[\"gt_label\"]\n",
    "\n",
    "    pred_video_raw = video_majority_df.loc[video_majority_df[\"video_id\"] == video_id, \"majority_label\"]\n",
    "    pred_video = label_to_id[pred_video_raw.values[0]] if not pred_video_raw.empty else None\n",
    "\n",
    "    pred_mlp_raw = mlp_segment_df.loc[mlp_segment_df[\"segment_id\"] == video_id, \"predicted_label\"]\n",
    "    pred_mlp = pred_mlp_raw.values[0] if not pred_mlp_raw.empty else None\n",
    "\n",
    "    pred_audio = row[\"majority_prediction\"]\n",
    "\n",
    "    # Aggregate votes\n",
    "    votes = [p for p in [pred_video, pred_mlp, pred_audio] if p is not None]\n",
    "    vote_counts = Counter(votes)\n",
    "    most_common = vote_counts.most_common()\n",
    "\n",
    "    if len(most_common) == 1 or most_common[0][1] > most_common[1][1]:\n",
    "        final_pred = most_common[0][0]\n",
    "    else:\n",
    "        final_pred = label_to_id[\"Neutral\"]  # Tie breaker\n",
    "\n",
    "    results.append({\n",
    "        \"video_id\": video_id,\n",
    "        \"final_prediction\": final_pred,\n",
    "        \"final_prediction_name\": id_to_label[final_pred],\n",
    "        \"ground_truth\": gt_label,\n",
    "        \"ground_truth_name\": id_to_label[gt_label]\n",
    "    })\n",
    "\n",
    "# Convert to DataFrame\n",
    "result_df = pd.DataFrame(results)\n",
    "\n",
    "# Extract prediction and ground truth lists\n",
    "y_true = result_df[\"ground_truth\"]\n",
    "y_pred = result_df[\"final_prediction\"]\n",
    "\n",
    "# Compute metrics\n",
    "macro_f1 = f1_score(y_true, y_pred, average=\"macro\")\n",
    "micro_f1 = f1_score(y_true, y_pred, average=\"micro\")\n",
    "accuracy = accuracy_score(y_true, y_pred)\n",
    "recall_per_class = recall_score(y_true, y_pred, average=None, labels=[0, 1, 2])\n",
    "\n",
    "# Print results\n",
    "print(\"📊 Evaluation Metrics:\")\n",
    "print(f\"Macro-F1:  {macro_f1:.4f}\")\n",
    "print(f\"Micro-F1:  {micro_f1:.4f}\")\n",
    "print(f\"Accuracy:  {accuracy:.4f}\")\n",
    "print(\"Recall per class:\")\n",
    "print(f\"  Negative (0): {recall_per_class[0]:.4f}\")\n",
    "print(f\"  Neutral  (1): {recall_per_class[1]:.4f}\")\n",
    "print(f\"  Positive (2): {recall_per_class[2]:.4f}\")\n"
   ]
  }
 ],
 "metadata": {
  "kernelspec": {
   "display_name": "Python 3",
   "language": "python",
   "name": "python3"
  },
  "language_info": {
   "codemirror_mode": {
    "name": "ipython",
    "version": 3
   },
   "file_extension": ".py",
   "mimetype": "text/x-python",
   "name": "python",
   "nbconvert_exporter": "python",
   "pygments_lexer": "ipython3",
   "version": "3.12.7"
  }
 },
 "nbformat": 4,
 "nbformat_minor": 5
}
