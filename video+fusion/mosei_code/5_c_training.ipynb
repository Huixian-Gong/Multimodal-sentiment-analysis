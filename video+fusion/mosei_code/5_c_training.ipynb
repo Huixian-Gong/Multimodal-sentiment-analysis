{
 "cells": [
  {
   "cell_type": "code",
   "execution_count": 2,
   "id": "385513f0",
   "metadata": {},
   "outputs": [
    {
     "name": "stderr",
     "output_type": "stream",
     "text": [
      "/data/home/huixian/.conda/envs/multiood/lib/python3.12/site-packages/transformers/models/videomae/feature_extraction_videomae.py:28: FutureWarning: The class VideoMAEFeatureExtractor is deprecated and will be removed in version 5 of Transformers. Please use VideoMAEImageProcessor instead.\n",
      "  warnings.warn(\n"
     ]
    },
    {
     "name": "stdout",
     "output_type": "stream",
     "text": [
      "\n",
      "Epoch 0\n"
     ]
    },
    {
     "name": "stderr",
     "output_type": "stream",
     "text": [
      "                                                 \r"
     ]
    },
    {
     "name": "stdout",
     "output_type": "stream",
     "text": [
      "Train Loss: 1.0920 | Val Loss: 1.0818\n",
      "Macro-F1: 0.2584 | Micro-F1: 0.3933 | Acc: 0.3933 | Recall: [0.08387097 0.04580153 0.96341463]\n",
      "✅ Best model saved at epoch 0\n",
      "\n",
      "Epoch 1\n"
     ]
    },
    {
     "name": "stderr",
     "output_type": "stream",
     "text": [
      "                                                 \r"
     ]
    },
    {
     "name": "stdout",
     "output_type": "stream",
     "text": [
      "Train Loss: 1.0768 | Val Loss: 1.0690\n",
      "Macro-F1: 0.4471 | Micro-F1: 0.4511 | Acc: 0.4511 | Recall: [0.55483871 0.46564885 0.34146341]\n",
      "✅ Best model saved at epoch 1\n",
      "\n",
      "Epoch 2\n"
     ]
    },
    {
     "name": "stderr",
     "output_type": "stream",
     "text": [
      "                                                 \r"
     ]
    },
    {
     "name": "stdout",
     "output_type": "stream",
     "text": [
      "Train Loss: 1.0633 | Val Loss: 1.0572\n",
      "Macro-F1: 0.4628 | Micro-F1: 0.4667 | Acc: 0.4667 | Recall: [0.56129032 0.42748092 0.40853659]\n",
      "✅ Best model saved at epoch 2\n",
      "\n",
      "Epoch 3\n"
     ]
    },
    {
     "name": "stderr",
     "output_type": "stream",
     "text": [
      "                                                 \r"
     ]
    },
    {
     "name": "stdout",
     "output_type": "stream",
     "text": [
      "Train Loss: 1.0531 | Val Loss: 1.0497\n",
      "Macro-F1: 0.4702 | Micro-F1: 0.4733 | Acc: 0.4733 | Recall: [0.5483871  0.4351145  0.43292683]\n",
      "✅ Best model saved at epoch 3\n",
      "\n",
      "Epoch 4\n"
     ]
    },
    {
     "name": "stderr",
     "output_type": "stream",
     "text": [
      "                                                 \r"
     ]
    },
    {
     "name": "stdout",
     "output_type": "stream",
     "text": [
      "Train Loss: 1.0418 | Val Loss: 1.0520\n",
      "Macro-F1: 0.4460 | Micro-F1: 0.4600 | Acc: 0.4600 | Recall: [0.6516129  0.48854962 0.25609756]\n",
      "\n",
      "Epoch 5\n"
     ]
    },
    {
     "name": "stderr",
     "output_type": "stream",
     "text": [
      "                                                 \r"
     ]
    },
    {
     "name": "stdout",
     "output_type": "stream",
     "text": [
      "Train Loss: 1.0360 | Val Loss: 1.0583\n",
      "Macro-F1: 0.4104 | Micro-F1: 0.4200 | Acc: 0.4200 | Recall: [0.43225806 0.66412214 0.21341463]\n",
      "\n",
      "Epoch 6\n"
     ]
    },
    {
     "name": "stderr",
     "output_type": "stream",
     "text": [
      "                                                 \r"
     ]
    },
    {
     "name": "stdout",
     "output_type": "stream",
     "text": [
      "Train Loss: 1.0287 | Val Loss: 1.0409\n",
      "Macro-F1: 0.4725 | Micro-F1: 0.4733 | Acc: 0.4733 | Recall: [0.46451613 0.46564885 0.48780488]\n",
      "✅ Best model saved at epoch 6\n",
      "\n",
      "Epoch 7\n"
     ]
    },
    {
     "name": "stderr",
     "output_type": "stream",
     "text": [
      "                                                 \r"
     ]
    },
    {
     "name": "stdout",
     "output_type": "stream",
     "text": [
      "Train Loss: 1.0230 | Val Loss: 1.0359\n",
      "Macro-F1: 0.4662 | Micro-F1: 0.4689 | Acc: 0.4689 | Recall: [0.50322581 0.41984733 0.47560976]\n",
      "\n",
      "Epoch 8\n"
     ]
    },
    {
     "name": "stderr",
     "output_type": "stream",
     "text": [
      "                                                 \r"
     ]
    },
    {
     "name": "stdout",
     "output_type": "stream",
     "text": [
      "Train Loss: 1.0181 | Val Loss: 1.0343\n",
      "Macro-F1: 0.4712 | Micro-F1: 0.4733 | Acc: 0.4733 | Recall: [0.48387097 0.4351145  0.49390244]\n",
      "\n",
      "Epoch 9\n"
     ]
    },
    {
     "name": "stderr",
     "output_type": "stream",
     "text": [
      "/tmp/ipykernel_3087643/3166097799.py:150: FutureWarning: You are using `torch.load` with `weights_only=False` (the current default value), which uses the default pickle module implicitly. It is possible to construct malicious pickle data which will execute arbitrary code during unpickling (See https://github.com/pytorch/pytorch/blob/main/SECURITY.md#untrusted-models for more details). In a future release, the default value for `weights_only` will be flipped to `True`. This limits the functions that could be executed during unpickling. Arbitrary objects will no longer be allowed to be loaded via this mode unless they are explicitly allowlisted by the user via `torch.serialization.add_safe_globals`. We recommend you start setting `weights_only=True` for any use case where you don't have full control of the loaded file. Please open an issue on GitHub for any issues related to this experimental feature.\n",
      "  classifier.load_state_dict(torch.load(\"best_video_classifier.pth\"))\n"
     ]
    },
    {
     "name": "stdout",
     "output_type": "stream",
     "text": [
      "Train Loss: 1.0106 | Val Loss: 1.0332\n",
      "Macro-F1: 0.4476 | Micro-F1: 0.4511 | Acc: 0.4511 | Recall: [0.54193548 0.41221374 0.39634146]\n"
     ]
    },
    {
     "name": "stderr",
     "output_type": "stream",
     "text": [
      "                                               "
     ]
    },
    {
     "name": "stdout",
     "output_type": "stream",
     "text": [
      "\n",
      "--- TEST SET ---\n",
      "Macro-F1: 0.4018 | Micro-F1: 0.4022 | Acc: 0.4022 | Recall: [0.41104294 0.41025641 0.38167939]\n"
     ]
    },
    {
     "name": "stderr",
     "output_type": "stream",
     "text": [
      "\r"
     ]
    }
   ],
   "source": [
    "import os\n",
    "gpu_ids = [4]\n",
    "os.environ[\"CUDA_VISIBLE_DEVICES\"] = \",\".join(map(str, gpu_ids))\n",
    "import random\n",
    "import torch\n",
    "import torch.nn as nn\n",
    "import torch.optim as optim\n",
    "import pandas as pd\n",
    "import numpy as np\n",
    "import cv2\n",
    "from torch.utils.data import Dataset, DataLoader, random_split\n",
    "from transformers import VideoMAEFeatureExtractor, VideoMAEModel\n",
    "from sklearn.metrics import f1_score, recall_score, accuracy_score\n",
    "from tqdm import tqdm\n",
    "\n",
    "# ---- CONFIGURATION ----\n",
    "device = torch.device(\"cuda\" if torch.cuda.is_available() else \"cpu\")\n",
    "clip_dir = \"/data/home/huixian/Documents/Homeworks/535_project/MOSEI/Clip/Clips_16frames\"\n",
    "mapping_csv = \"/data/home/huixian/Documents/Homeworks/535_project/MOSEI/Clip/clip_sentiment_mapping.csv\"\n",
    "clip_len = 16\n",
    "batch_size = 8\n",
    "num_epochs = 10\n",
    "negative_samples = 1500\n",
    "neutral_samples = 1500\n",
    "positive_samples = 1500\n",
    "\n",
    "# ---- DATASET ----\n",
    "class VideoClipClassificationDataset(Dataset):\n",
    "    def __init__(self, clip_dir, csv_path, feature_extractor):\n",
    "        self.clip_dir = clip_dir\n",
    "        self.df = pd.read_csv(csv_path)\n",
    "        self.feature_extractor = feature_extractor\n",
    "        self.label_map = {\"Negative\": 0, \"Neutral\": 1, \"Positive\": 2}\n",
    "        self.samples_by_class = {k: [] for k in self.label_map}\n",
    "\n",
    "        for _, row in self.df.iterrows():\n",
    "            self.samples_by_class[row[\"sentiment_label\"]].append(row[\"clip_filename\"])\n",
    "\n",
    "        self.samples = (\n",
    "            random.sample(self.samples_by_class[\"Negative\"], min(negative_samples, len(self.samples_by_class[\"Negative\"]))) +\n",
    "            random.sample(self.samples_by_class[\"Neutral\"], min(neutral_samples, len(self.samples_by_class[\"Neutral\"]))) +\n",
    "            random.sample(self.samples_by_class[\"Positive\"], min(positive_samples, len(self.samples_by_class[\"Positive\"])))\n",
    "        )\n",
    "\n",
    "    def __len__(self):\n",
    "        return len(self.samples)\n",
    "\n",
    "    def __getitem__(self, idx):\n",
    "        clip_name = self.samples[idx]\n",
    "        label_str = self.df[self.df[\"clip_filename\"] == clip_name][\"sentiment_label\"].values[0]\n",
    "        label = self.label_map[label_str]\n",
    "        clip_path = os.path.join(self.clip_dir, clip_name)\n",
    "\n",
    "        cap = cv2.VideoCapture(clip_path)\n",
    "        frames = []\n",
    "        while True:\n",
    "            ret, frame = cap.read()\n",
    "            if not ret:\n",
    "                break\n",
    "            frames.append(frame[:, :, ::-1])\n",
    "        cap.release()\n",
    "\n",
    "        if len(frames) < clip_len:\n",
    "            frames += [frames[-1]] * (clip_len - len(frames))\n",
    "        frames = frames[:clip_len]\n",
    "\n",
    "        inputs = self.feature_extractor(images=frames, return_tensors=\"pt\")[\"pixel_values\"].squeeze(0)\n",
    "        return inputs, label\n",
    "\n",
    "# ---- MODEL ----\n",
    "class VideoClassifier(nn.Module):\n",
    "    def __init__(self, input_dim=768, num_classes=3):\n",
    "        super().__init__()\n",
    "        self.model = nn.Sequential(\n",
    "            nn.Linear(input_dim, 256),\n",
    "            nn.ReLU(),\n",
    "            nn.Linear(256, num_classes)\n",
    "        )\n",
    "\n",
    "    def forward(self, x):\n",
    "        return self.model(x)\n",
    "\n",
    "# ---- TRAINING LOOP ----\n",
    "def run_epoch(model, loader, optimizer=None):\n",
    "    model.train() if optimizer else model.eval()\n",
    "    total_loss = 0\n",
    "    all_preds, all_labels = [], []\n",
    "\n",
    "    for clips, labels in tqdm(loader, leave=False):\n",
    "        clips, labels = clips.to(device), labels.to(device)\n",
    "\n",
    "        with torch.set_grad_enabled(optimizer is not None):\n",
    "            features = video_mae(clips).last_hidden_state.mean(dim=1)\n",
    "            logits = model(features)\n",
    "            loss = loss_fn(logits, labels)\n",
    "\n",
    "            if optimizer:\n",
    "                optimizer.zero_grad()\n",
    "                loss.backward()\n",
    "                optimizer.step()\n",
    "\n",
    "        total_loss += loss.item()\n",
    "        all_preds.extend(logits.argmax(dim=1).cpu().numpy())\n",
    "        all_labels.extend(labels.cpu().numpy())\n",
    "\n",
    "    avg_loss = total_loss / len(loader)\n",
    "    return avg_loss, np.array(all_preds), np.array(all_labels)\n",
    "\n",
    "def evaluate(preds, labels):\n",
    "    return (\n",
    "        f1_score(labels, preds, average=\"macro\"),\n",
    "        f1_score(labels, preds, average=\"micro\"),\n",
    "        recall_score(labels, preds, average=None, labels=[0, 1, 2]),\n",
    "        accuracy_score(labels, preds)\n",
    "    )\n",
    "\n",
    "# ---- LOAD MODELS ----\n",
    "feature_extractor = VideoMAEFeatureExtractor.from_pretrained(\"MCG-NJU/videomae-base\")\n",
    "video_mae = VideoMAEModel.from_pretrained(\"MCG-NJU/videomae-base\").to(device)\n",
    "video_mae.eval()\n",
    "for p in video_mae.parameters(): p.requires_grad = False\n",
    "\n",
    "dataset = VideoClipClassificationDataset(clip_dir, mapping_csv, feature_extractor)\n",
    "train_set, val_set, test_set = random_split(dataset, [int(0.8 * len(dataset)), int(0.1 * len(dataset)), len(dataset) - int(0.9 * len(dataset))])\n",
    "train_loader = DataLoader(train_set, batch_size=batch_size, shuffle=True, num_workers=4, pin_memory=True)\n",
    "val_loader = DataLoader(val_set, batch_size=batch_size, shuffle=False, num_workers=4, pin_memory=True)\n",
    "test_loader = DataLoader(test_set, batch_size=batch_size, shuffle=False, num_workers=4, pin_memory=True)\n",
    "\n",
    "classifier = VideoClassifier().to(device)\n",
    "optimizer = optim.Adam(classifier.parameters(), lr=1e-4)\n",
    "loss_fn = nn.CrossEntropyLoss()\n",
    "\n",
    "# ---- TRAINING ----\n",
    "best_macro = -1\n",
    "for epoch in range(num_epochs):\n",
    "    print(f\"\\nEpoch {epoch}\")\n",
    "    train_loss, _, _ = run_epoch(classifier, train_loader, optimizer)\n",
    "    val_loss, val_preds, val_labels = run_epoch(classifier, val_loader)\n",
    "\n",
    "    macro_f1, micro_f1, recall, acc = evaluate(val_preds, val_labels)\n",
    "    print(f\"Train Loss: {train_loss:.4f} | Val Loss: {val_loss:.4f}\")\n",
    "    print(f\"Macro-F1: {macro_f1:.4f} | Micro-F1: {micro_f1:.4f} | Acc: {acc:.4f} | Recall: {recall}\")\n",
    "\n",
    "    if macro_f1 > best_macro:\n",
    "        best_macro = macro_f1\n",
    "        torch.save(classifier.state_dict(), \"best_video_classifier.pth\")\n",
    "        print(f\"✅ Best model saved at epoch {epoch}\")\n",
    "\n",
    "# ---- FINAL TEST ----\n",
    "classifier.load_state_dict(torch.load(\"best_video_classifier.pth\"))\n",
    "test_loss, test_preds, test_labels = run_epoch(classifier, test_loader)\n",
    "macro_f1, micro_f1, recall, acc = evaluate(test_preds, test_labels)\n",
    "print(\"\\n--- TEST SET ---\")\n",
    "print(f\"Macro-F1: {macro_f1:.4f} | Micro-F1: {micro_f1:.4f} | Acc: {acc:.4f} | Recall: {recall}\")\n"
   ]
  }
 ],
 "metadata": {
  "kernelspec": {
   "display_name": "Python 3",
   "language": "python",
   "name": "python3"
  },
  "language_info": {
   "codemirror_mode": {
    "name": "ipython",
    "version": 3
   },
   "file_extension": ".py",
   "mimetype": "text/x-python",
   "name": "python",
   "nbconvert_exporter": "python",
   "pygments_lexer": "ipython3",
   "version": "3.12.7"
  }
 },
 "nbformat": 4,
 "nbformat_minor": 5
}
